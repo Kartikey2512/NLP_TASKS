{
  "nbformat": 4,
  "nbformat_minor": 0,
  "metadata": {
    "colab": {
      "provenance": []
    },
    "kernelspec": {
      "name": "python3",
      "display_name": "Python 3"
    },
    "language_info": {
      "name": "python"
    }
  },
  "cells": [
    {
      "cell_type": "markdown",
      "source": [
        "# **TASK 5**"
      ],
      "metadata": {
        "id": "Hf8CV0O4Osjl"
      }
    },
    {
      "cell_type": "code",
      "execution_count": 1,
      "metadata": {
        "id": "QLIeqFA-OrD6"
      },
      "outputs": [],
      "source": [
        "from sklearn.feature_extraction.text import CountVectorizer\n",
        "vect=CountVectorizer(binary = True)\n"
      ]
    },
    {
      "cell_type": "code",
      "source": [
        "corpus = [\"NLP is an awesome course\",\"I want to start an NlP company\",\"worth a billion\"]\n",
        "vect.fit(corpus)\n"
      ],
      "metadata": {
        "colab": {
          "base_uri": "https://localhost:8080/"
        },
        "id": "Ls_kEMS7PbWA",
        "outputId": "af193acd-1acb-4176-d718-791c99ce541d"
      },
      "execution_count": 9,
      "outputs": [
        {
          "output_type": "execute_result",
          "data": {
            "text/plain": [
              "CountVectorizer(binary=True)"
            ]
          },
          "metadata": {},
          "execution_count": 9
        }
      ]
    },
    {
      "cell_type": "code",
      "source": [
        "vocab=vect.vocabulary_\n",
        "for key in vocab.keys():\n",
        "  print(\"{}:{}\".format(key,vocab[key]))"
      ],
      "metadata": {
        "colab": {
          "base_uri": "https://localhost:8080/"
        },
        "id": "1lkC8JYSPiJF",
        "outputId": "6032f89d-3742-416c-8dd2-5b975ffbe336"
      },
      "execution_count": 10,
      "outputs": [
        {
          "output_type": "stream",
          "name": "stdout",
          "text": [
            "nlp:6\n",
            "is:5\n",
            "an:0\n",
            "awesome:1\n",
            "course:4\n",
            "want:9\n",
            "to:8\n",
            "start:7\n",
            "company:3\n",
            "worth:10\n",
            "billion:2\n"
          ]
        }
      ]
    },
    {
      "cell_type": "code",
      "source": [
        "vect.transform([\"I have an NLP Company worth an awesome billion\"]).toarray()"
      ],
      "metadata": {
        "colab": {
          "base_uri": "https://localhost:8080/"
        },
        "id": "sjB-4DzWQlvy",
        "outputId": "65e3b5d4-a743-4f1e-81cd-92063febefcb"
      },
      "execution_count": 7,
      "outputs": [
        {
          "output_type": "execute_result",
          "data": {
            "text/plain": [
              "array([[1, 0, 0, 0, 1]])"
            ]
          },
          "metadata": {},
          "execution_count": 7
        }
      ]
    },
    {
      "cell_type": "code",
      "source": [
        "from sklearn.metrics.pairwise import cosine_similarity\n",
        "similarity = cosine_similarity(vect.transform([\"NLP is an elective\"]).toarray(),vect.transform([\"NLP is an attractive career now\"]).toarray())\n",
        "print(similarity)"
      ],
      "metadata": {
        "colab": {
          "base_uri": "https://localhost:8080/"
        },
        "id": "dLTf6ls9STmU",
        "outputId": "c1d2c80d-8018-4281-e278-673c23e54d6d"
      },
      "execution_count": 15,
      "outputs": [
        {
          "output_type": "stream",
          "name": "stdout",
          "text": [
            "[[1.]]\n"
          ]
        }
      ]
    }
  ]
}