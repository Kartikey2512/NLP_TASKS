{
  "nbformat": 4,
  "nbformat_minor": 0,
  "metadata": {
    "colab": {
      "provenance": []
    },
    "kernelspec": {
      "name": "python3",
      "display_name": "Python 3"
    },
    "language_info": {
      "name": "python"
    }
  },
  "cells": [
    {
      "cell_type": "markdown",
      "source": [
        "# TASK **4.1**"
      ],
      "metadata": {
        "id": "dZ15IXBvIdpI"
      }
    },
    {
      "cell_type": "code",
      "source": [
        "from urllib import request \n"
      ],
      "metadata": {
        "id": "vS6hUpzLIjfU"
      },
      "execution_count": 2,
      "outputs": []
    },
    {
      "cell_type": "code",
      "source": [
        "url=\"https://www.gutenberg.org/files/1661/1661-0.txt\"\n",
        "response=request.urlopen(url)\n",
        "raw=response.read().decode('utf8')\n"
      ],
      "metadata": {
        "id": "YG1kyjxDJZ9m"
      },
      "execution_count": 3,
      "outputs": []
    },
    {
      "cell_type": "code",
      "source": [
        "import nltk\n",
        "nltk.download('punkt')"
      ],
      "metadata": {
        "colab": {
          "base_uri": "https://localhost:8080/"
        },
        "id": "U8FbsN7TK4bq",
        "outputId": "ef176e34-0782-4e2f-c4b7-5b5ab2ab9411"
      },
      "execution_count": 5,
      "outputs": [
        {
          "output_type": "stream",
          "name": "stderr",
          "text": [
            "[nltk_data] Downloading package punkt to /root/nltk_data...\n",
            "[nltk_data]   Unzipping tokenizers/punkt.zip.\n"
          ]
        },
        {
          "output_type": "execute_result",
          "data": {
            "text/plain": [
              "True"
            ]
          },
          "metadata": {},
          "execution_count": 5
        }
      ]
    },
    {
      "cell_type": "code",
      "source": [
        "import nltk\n",
        "from nltk.tokenize import word_tokenize\n",
        "tokens = word_tokenize(raw)"
      ],
      "metadata": {
        "id": "YafwO3QIKeWK"
      },
      "execution_count": 6,
      "outputs": []
    },
    {
      "cell_type": "code",
      "source": [
        "print(tokens[:200])"
      ],
      "metadata": {
        "colab": {
          "base_uri": "https://localhost:8080/"
        },
        "id": "GvxviN_3Kr8u",
        "outputId": "15987aec-d432-4e4c-9401-fdaf04be2ca2"
      },
      "execution_count": 7,
      "outputs": [
        {
          "output_type": "stream",
          "name": "stdout",
          "text": [
            "['\\ufeffThe', 'Project', 'Gutenberg', 'eBook', 'of', 'The', 'Adventures', 'of', 'Sherlock', 'Holmes', ',', 'by', 'Arthur', 'Conan', 'Doyle', 'This', 'eBook', 'is', 'for', 'the', 'use', 'of', 'anyone', 'anywhere', 'in', 'the', 'United', 'States', 'and', 'most', 'other', 'parts', 'of', 'the', 'world', 'at', 'no', 'cost', 'and', 'with', 'almost', 'no', 'restrictions', 'whatsoever', '.', 'You', 'may', 'copy', 'it', ',', 'give', 'it', 'away', 'or', 're-use', 'it', 'under', 'the', 'terms', 'of', 'the', 'Project', 'Gutenberg', 'License', 'included', 'with', 'this', 'eBook', 'or', 'online', 'at', 'www.gutenberg.org', '.', 'If', 'you', 'are', 'not', 'located', 'in', 'the', 'United', 'States', ',', 'you', 'will', 'have', 'to', 'check', 'the', 'laws', 'of', 'the', 'country', 'where', 'you', 'are', 'located', 'before', 'using', 'this', 'eBook', '.', 'Title', ':', 'The', 'Adventures', 'of', 'Sherlock', 'Holmes', 'Author', ':', 'Arthur', 'Conan', 'Doyle', 'Release', 'Date', ':', 'November', '29', ',', '2002', '[', 'eBook', '#', '1661', ']', '[', 'Most', 'recently', 'updated', ':', 'May', '20', ',', '2019', ']', 'Language', ':', 'English', 'Character', 'set', 'encoding', ':', 'UTF-8', 'Produced', 'by', ':', 'an', 'anonymous', 'Project', 'Gutenberg', 'volunteer', 'and', 'Jose', 'Menendez', '*', '*', '*', 'START', 'OF', 'THE', 'PROJECT', 'GUTENBERG', 'EBOOK', 'THE', 'ADVENTURES', 'OF', 'SHERLOCK', 'HOLMES', '*', '*', '*', 'cover', 'The', 'Adventures', 'of', 'Sherlock', 'Holmes', 'by', 'Arthur', 'Conan', 'Doyle', 'Contents', 'I', '.', 'A', 'Scandal', 'in', 'Bohemia', 'II', '.', 'The', 'Red-Headed', 'League', 'III', '.', 'A', 'Case', 'of', 'Identity']\n"
          ]
        }
      ]
    },
    {
      "cell_type": "markdown",
      "source": [
        "## Task 4.2 (Stemming)\n"
      ],
      "metadata": {
        "id": "h9ODQ-DAMkLq"
      }
    },
    {
      "cell_type": "code",
      "source": [
        "#BeautifulSoup\n",
        "#Preprocessing- RE to clean any html tags\n",
        "#Pos Tagging\n",
        "#!!"
      ],
      "metadata": {
        "id": "7U4z0khfLr_e"
      },
      "execution_count": null,
      "outputs": []
    },
    {
      "cell_type": "code",
      "source": [
        "import nltk\n",
        "from nltk.stem import PorterStemmer\n",
        "porter = PorterStemmer()\n",
        "print(porter.stem('cacti'))\n",
        "print(porter.stem('joyous'))\n",
        "print(porter.stem('happiness'))"
      ],
      "metadata": {
        "colab": {
          "base_uri": "https://localhost:8080/",
          "height": 35
        },
        "id": "GPrc8NbKMUAD",
        "outputId": "485f3018-7b11-45e8-87eb-fdc62521cf8d"
      },
      "execution_count": 10,
      "outputs": [
        {
          "output_type": "execute_result",
          "data": {
            "text/plain": [
              "'happi'"
            ],
            "application/vnd.google.colaboratory.intrinsic+json": {
              "type": "string"
            }
          },
          "metadata": {},
          "execution_count": 10
        }
      ]
    },
    {
      "cell_type": "code",
      "source": [
        "import nltk\n",
        "from nltk.stem import LancasterStemmer\n",
        "lancaster = LancasterStemmer()\n",
        "print(lancaster.stem('cacti'))\n",
        "print(lancaster.stem('joyous'))\n",
        "print(lancaster.stem('happiness'))"
      ],
      "metadata": {
        "colab": {
          "base_uri": "https://localhost:8080/"
        },
        "id": "D0d_mCd9NZeP",
        "outputId": "f4ae294d-801a-4f1f-c4b4-0351f3d35b44"
      },
      "execution_count": 11,
      "outputs": [
        {
          "output_type": "stream",
          "name": "stdout",
          "text": [
            "cact\n",
            "joy\n",
            "happy\n"
          ]
        }
      ]
    },
    {
      "cell_type": "code",
      "source": [
        "import nltk\n",
        "from nltk.stem import RegexpStemmer\n",
        "regexp = RegexpStemmer('ing')\n",
        "print(regexp.stem('cacti'))\n",
        "print(regexp.stem('joyous'))\n",
        "print(regexp.stem('happiness'))"
      ],
      "metadata": {
        "colab": {
          "base_uri": "https://localhost:8080/"
        },
        "id": "xaWCzUrENxob",
        "outputId": "24c47cde-8e7c-4623-f951-aacfa436bd00"
      },
      "execution_count": 13,
      "outputs": [
        {
          "output_type": "stream",
          "name": "stdout",
          "text": [
            "cacti\n",
            "joyous\n",
            "happiness\n"
          ]
        }
      ]
    },
    {
      "cell_type": "code",
      "source": [
        "import nltk\n",
        "from nltk.stem import SnowballStemmer\n",
        "snow = SnowballStemmer('french')\n",
        "print(snow.stem('manges'))\n",
        "print(snow.stem('bonjour'))\n",
        "print(snow.stem('detester'))"
      ],
      "metadata": {
        "colab": {
          "base_uri": "https://localhost:8080/"
        },
        "id": "H8fTKtKvOmcf",
        "outputId": "77362a53-4abe-4ced-d702-6b89dfba6864"
      },
      "execution_count": 18,
      "outputs": [
        {
          "output_type": "stream",
          "name": "stdout",
          "text": [
            "mang\n",
            "bonjour\n",
            "detest\n"
          ]
        }
      ]
    },
    {
      "cell_type": "code",
      "source": [
        "#from nltk.stem import PorterStemmer\n",
        "porter = PorterStemmer()\n",
        "text = \"\"\"Sir, I thnakyou This eBook is for the use of anyone anywhere in the United States and\n",
        "most other parts of the world at no cost and with almost no restrictions\n",
        "whatsoever. You may copy it, give it away or re-use it under the terms\n",
        "of the Project Gutenberg License included with this eBook or online at\n",
        "www.gutenberg.org. If you are not located in the United States, you\n",
        "will have to check the laws of the country where you are located before\n",
        "using this eBook\"\"\"\n",
        "stemm=[porter.stem(token) for token in text.split(\" \")]\n",
        "print(stemm)\n"
      ],
      "metadata": {
        "colab": {
          "base_uri": "https://localhost:8080/"
        },
        "id": "QWQceq0QQNMx",
        "outputId": "27e69b4f-389d-4c2d-ec4e-872bcfd1326c"
      },
      "execution_count": 19,
      "outputs": [
        {
          "output_type": "stream",
          "name": "stdout",
          "text": [
            "['sir,', 'i', 'thnakyou', 'thi', 'ebook', 'is', 'for', 'the', 'use', 'of', 'anyon', 'anywher', 'in', 'the', 'unit', 'state', 'and\\nmost', 'other', 'part', 'of', 'the', 'world', 'at', 'no', 'cost', 'and', 'with', 'almost', 'no', 'restrictions\\nwhatsoever.', 'you', 'may', 'copi', 'it,', 'give', 'it', 'away', 'or', 're-us', 'it', 'under', 'the', 'terms\\nof', 'the', 'project', 'gutenberg', 'licens', 'includ', 'with', 'thi', 'ebook', 'or', 'onlin', 'at\\nwww.gutenberg.org.', 'if', 'you', 'are', 'not', 'locat', 'in', 'the', 'unit', 'states,', 'you\\nwil', 'have', 'to', 'check', 'the', 'law', 'of', 'the', 'countri', 'where', 'you', 'are', 'locat', 'before\\nus', 'thi', 'ebook']\n"
          ]
        }
      ]
    },
    {
      "cell_type": "code",
      "source": [
        "lancaster = LancasterStemmer()\n",
        "text = \"\"\"Sir, I thnakyou This eBook is for the use of anyone anywhere in the United States and\n",
        "most other parts of the world at no cost and with almost no restrictions\n",
        "whatsoever. You may copy it, give it away or re-use it under the terms\n",
        "of the Project Gutenberg License included with this eBook or online at\n",
        "www.gutenberg.org. If you are not located in the United States, you\n",
        "will have to check the laws of the country where you are located before\n",
        "using this eBook\"\"\"\n",
        "stemm=[lancaster.stem(token) for token in text.split(\" \")]\n",
        "print(stemm)"
      ],
      "metadata": {
        "colab": {
          "base_uri": "https://localhost:8080/"
        },
        "id": "CjhZ0jkFRX7o",
        "outputId": "95b95c86-1ac2-4398-91b5-4058cc3a990d"
      },
      "execution_count": 23,
      "outputs": [
        {
          "output_type": "stream",
          "name": "stdout",
          "text": [
            "['sir,', 'i', 'thnakyou', 'thi', 'ebook', 'is', 'for', 'the', 'us', 'of', 'anyon', 'anywh', 'in', 'the', 'unit', 'stat', 'and\\nmost', 'oth', 'part', 'of', 'the', 'world', 'at', 'no', 'cost', 'and', 'with', 'almost', 'no', 'restrictions\\nwhatsoever.', 'you', 'may', 'cop', 'it,', 'giv', 'it', 'away', 'or', 're-us', 'it', 'und', 'the', 'terms\\nof', 'the', 'project', 'gutenberg', 'licens', 'includ', 'with', 'thi', 'ebook', 'or', 'onlin', 'at\\nwww.gutenberg.org.', 'if', 'you', 'ar', 'not', 'loc', 'in', 'the', 'unit', 'states,', 'you\\nwill', 'hav', 'to', 'check', 'the', 'law', 'of', 'the', 'country', 'wher', 'you', 'ar', 'loc', 'before\\nusing', 'thi', 'ebook']\n"
          ]
        }
      ]
    },
    {
      "cell_type": "markdown",
      "source": [
        "LEMMATIZATION (4.3)"
      ],
      "metadata": {
        "id": "xcmFNa_bTa-a"
      }
    },
    {
      "cell_type": "code",
      "source": [
        "import nltk\n",
        "nltk.download('wordnet')\n",
        "nltk.download('omw-1.4')\n",
        "from nltk.stem import WordNetLemmatizer\n",
        "lemma = WordNetLemmatizer()\n",
        "print(lemma.lemmatize(\"mice\"))\n",
        "print(lemma.lemmatize(\"am\",pos='v'))"
      ],
      "metadata": {
        "colab": {
          "base_uri": "https://localhost:8080/"
        },
        "id": "22uD4DVVSdQ_",
        "outputId": "b0c03e26-0468-46cd-fa07-3ec8745a2742"
      },
      "execution_count": 29,
      "outputs": [
        {
          "output_type": "stream",
          "name": "stdout",
          "text": [
            "mouse\n",
            "be\n"
          ]
        },
        {
          "output_type": "stream",
          "name": "stderr",
          "text": [
            "[nltk_data] Downloading package wordnet to /root/nltk_data...\n",
            "[nltk_data]   Package wordnet is already up-to-date!\n",
            "[nltk_data] Downloading package omw-1.4 to /root/nltk_data...\n",
            "[nltk_data]   Package omw-1.4 is already up-to-date!\n"
          ]
        }
      ]
    },
    {
      "cell_type": "code",
      "source": [],
      "metadata": {
        "id": "NeZ0i-KwTT1K"
      },
      "execution_count": null,
      "outputs": []
    }
  ]
}